{
 "cells": [
  {
   "cell_type": "code",
   "execution_count": 2,
   "metadata": {},
   "outputs": [
    {
     "name": "stdout",
     "output_type": "stream",
     "text": [
      "average score among all pros: 71.22962704918034\n"
     ]
    }
   ],
   "source": [
    "#!pip install requests\n",
    "#!pip install bs4\n",
    "#!pip install numpy\n",
    "#!pip install pandas\n",
    "#!pip3 install lxml\n",
    "\n",
    "import requests\n",
    "from bs4 import BeautifulSoup\n",
    "import numpy as np\n",
    "import pandas as pd\n",
    "\n",
    "# Here, we are using the PGA Tour's website for most of our statistics. They keep their data pretty clean, so \n",
    "# most of the tables won't need much preprocessing once we load them in. However, when we try to create a machine\n",
    "# learning model, there will most likely be some extra work we need to do in order to account for missing values\n",
    "# (since we will be using joins to combine the tables). The code here simply uses the requests API to get the \n",
    "# PGA tour page, and then we use BeautifulSoup to extract the HTML elements from it. We want the table, which has the\n",
    "# id 'statsTable' (there is more than one table, the other one is not used for data, so it's easier to search by id). \n",
    "# Here we do a simply average of all the player's average scores during the 2019-2020 season. Typically, par is 72 strokes,\n",
    "# so on average pros are doing almost 1 stroke better than par, or typically as it is written on a score card, -1. That's\n",
    "# not bad, much better than the average golfer, which is universally defined as\n",
    "# +18 over par, but not necessarily the case statistically\n",
    "# (a harder course could have a much worse average score). However, it's not good enough to win tournaments. Let's see what\n",
    "# the winning score in a tournament is. \n",
    "\n",
    "# CALCULATE AVERAGE PGA PRO SCORE\n",
    "\n",
    "r = requests.get('https://www.pgatour.com/content/pgatour/stats/stat.120.y2020.eoff.t493.html')\n",
    "bs = BeautifulSoup(r.text, 'html.parser')\n",
    "table = bs.find(id = 'statsTable')\n",
    "#print(table)\n",
    "d = pd.read_html(table.prettify()) # data is pretty tidy, so not too much pre-processing to do\n",
    "df = d[0]\n",
    "avg_score = df['AVG'].mean()\n",
    "print(\"average score among all pros: \" + str(avg_score))\n",
    "\n",
    "# CALCULATING WINNING TOURNAMENT SCORE\n",
    "\n",
    "\n"
   ]
  },
  {
   "cell_type": "code",
   "execution_count": null,
   "metadata": {},
   "outputs": [],
   "source": []
  },
  {
   "cell_type": "code",
   "execution_count": null,
   "metadata": {},
   "outputs": [],
   "source": []
  }
 ],
 "metadata": {
  "kernelspec": {
   "display_name": "Python 3",
   "language": "python",
   "name": "python3"
  },
  "language_info": {
   "codemirror_mode": {
    "name": "ipython",
    "version": 3
   },
   "file_extension": ".py",
   "mimetype": "text/x-python",
   "name": "python",
   "nbconvert_exporter": "python",
   "pygments_lexer": "ipython3",
   "version": "3.8.0"
  }
 },
 "nbformat": 4,
 "nbformat_minor": 2
}
